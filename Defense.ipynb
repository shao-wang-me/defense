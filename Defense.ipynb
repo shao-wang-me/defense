{
 "cells": [
  {
   "cell_type": "markdown",
   "metadata": {
    "collapsed": true
   },
   "source": [
    "# Self-play\n",
    "\n",
    "Plan A\n",
    "1. Train defense\n",
    "2. Train offense\n",
    "3. Train offense vs defense\n",
    "\n",
    "Plan B\n",
    "1. Train offense vs defense\n",
    "\n",
    "Evaluation\n",
    "1. Test defense\n",
    "2. Test offense\n",
    "\n",
    "# Pseudo-reward\n",
    "\n",
    "Plan\n",
    "1. Train offense\n",
    "2. Train offense with pseudo-reward\n",
    "\n",
    "Evaluation \n",
    "1. Test defense\n",
    "2. Test offense"
   ]
  },
  {
   "cell_type": "markdown",
   "metadata": {},
   "source": [
    "initialize Q\n",
    "    initialize Q'\n",
    "    initialize exploration function e\n",
    "    initialize experience E with length limit |E|\n",
    "    for each episode:\n",
    "        for each step:\n",
    "            observe s\n",
    "            with probability e, select a randomly, else select a based on Q function\n",
    "            execute a\n",
    "            observe r, s'\n",
    "            add (s, a, r, s') to experience E\n",
    "            train Q with minibatch of (s, a, r, s') uniformly random sampled from E, with target calculated from Q'\\\n",
    "            every c step, update Q'"
   ]
  },
  {
   "cell_type": "markdown",
   "metadata": {},
   "source": [
    "initialize Q\n",
    "initialize Q'\n",
    "initialize exploration function e\n",
    "initialize experience E with length limit |E|\n",
    "for each episode:\n",
    "    for each step:\n",
    "        observe s\n",
    "        with probability e, select a randomly, else select a based on Q function\n",
    "        execute a\n",
    "        observe r, s'\n",
    "        add (s, a, r, s') to experience E\n",
    "        train Q with minibatch of (s, a, r, s') uniformly random sampled from E, with target calculated from Q'\n",
    "        every c step, update Q'\n"
   ]
  }
 ],
 "metadata": {
  "kernelspec": {
   "display_name": "Python 2",
   "language": "python",
   "name": "python2"
  },
  "language_info": {
   "codemirror_mode": {
    "name": "ipython",
    "version": 2
   },
   "file_extension": ".py",
   "mimetype": "text/x-python",
   "name": "python",
   "nbconvert_exporter": "python",
   "pygments_lexer": "ipython2",
   "version": "2.7.6"
  }
 },
 "nbformat": 4,
 "nbformat_minor": 0
}
